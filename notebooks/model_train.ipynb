{
 "cells": [
  {
   "cell_type": "code",
   "execution_count": 1,
   "id": "0ec927a5",
   "metadata": {},
   "outputs": [],
   "source": [
    "import numpy as np\n",
    "import pandas as pd"
   ]
  },
  {
   "cell_type": "code",
   "execution_count": 2,
   "id": "d275ac10",
   "metadata": {},
   "outputs": [],
   "source": [
    "import numpy as np\n",
    "\n",
    "def load_numpy_array(file_path: str) -> np.ndarray:\n",
    "    \"\"\"\n",
    "    Loads a NumPy array from a .npy file.\n",
    "\n",
    "    Args:\n",
    "        file_path (str): Path to the .npy file.\n",
    "\n",
    "    Returns:\n",
    "        np.ndarray: Loaded NumPy array.\n",
    "    \"\"\"\n",
    "    try:\n",
    "        array = np.load(file_path)\n",
    "        print(f\"✅ Successfully loaded: {file_path}\")\n",
    "        return array\n",
    "    except Exception as e:\n",
    "        print(f\"❌ Failed to load {file_path}: {e}\")\n",
    "        raise\n"
   ]
  },
  {
   "cell_type": "code",
   "execution_count": 3,
   "id": "61e20de5",
   "metadata": {},
   "outputs": [
    {
     "name": "stdout",
     "output_type": "stream",
     "text": [
      "✅ Successfully loaded: ../Artifacts/data_vectorization/train.npy\n",
      "✅ Successfully loaded: ../Artifacts/data_vectorization/test.npy\n"
     ]
    }
   ],
   "source": [
    "transforemd_X_test=pd.read_csv(\"../Artifacts/data_transformation/transformed/transformed_test.csv\")\n",
    "transforemd_X_train=pd.read_csv(\"../Artifacts/data_transformation/transformed/transformed_train.csv\")\n",
    "X_train=load_numpy_array(\"../Artifacts/data_vectorization/train.npy\")\n",
    "X_test=load_numpy_array(\"../Artifacts/data_vectorization/test.npy\")\n",
    "y_train=transforemd_X_train.iloc[:,-1]\n",
    "y_test=transforemd_X_test.iloc[:,-1]"
   ]
  },
  {
   "cell_type": "code",
   "execution_count": 4,
   "id": "d14654cf",
   "metadata": {},
   "outputs": [
    {
     "name": "stdout",
     "output_type": "stream",
     "text": [
      "scale_pos_weight: 4.56\n"
     ]
    }
   ],
   "source": [
    "# Count positive and negative samples\n",
    "n_pos = np.sum(y_train == 1)\n",
    "n_neg = np.sum(y_train == 0)\n",
    "\n",
    "# Calculate scale_pos_weight\n",
    "scale_pos_weight = n_neg / n_pos\n",
    "print(f\"scale_pos_weight: {scale_pos_weight:.2f}\")"
   ]
  },
  {
   "cell_type": "code",
   "execution_count": 6,
   "id": "9c6d56b8",
   "metadata": {},
   "outputs": [
    {
     "data": {
      "text/plain": [
       "(352719, 100)"
      ]
     },
     "execution_count": 6,
     "metadata": {},
     "output_type": "execute_result"
    }
   ],
   "source": [
    "X_train.shape"
   ]
  },
  {
   "cell_type": "code",
   "execution_count": 7,
   "id": "a5c8d542",
   "metadata": {},
   "outputs": [
    {
     "data": {
      "text/plain": [
       "(88180, 100)"
      ]
     },
     "execution_count": 7,
     "metadata": {},
     "output_type": "execute_result"
    }
   ],
   "source": [
    "X_test.shape"
   ]
  },
  {
   "cell_type": "code",
   "execution_count": 8,
   "id": "0d9a83ce",
   "metadata": {},
   "outputs": [
    {
     "data": {
      "text/plain": [
       "(88180,)"
      ]
     },
     "execution_count": 8,
     "metadata": {},
     "output_type": "execute_result"
    }
   ],
   "source": [
    "y_test.shape"
   ]
  },
  {
   "cell_type": "code",
   "execution_count": null,
   "id": "591afd95",
   "metadata": {},
   "outputs": [
    {
     "name": "stdout",
     "output_type": "stream",
     "text": [
      "✅ Model Evaluation Metrics:\n",
      "📊 Accuracy:  0.7927\n",
      "📊 Precision: 0.8562\n",
      "📊 Recall:    0.7927\n",
      "📊 F1 Score:  0.8113\n",
      "\n",
      "📄 Classification Report:\n",
      "\n",
      "              precision    recall  f1-score   support\n",
      "\n",
      "           0       0.94      0.79      0.86     72346\n",
      "           1       0.46      0.78      0.58     15834\n",
      "\n",
      "    accuracy                           0.79     88180\n",
      "   macro avg       0.70      0.79      0.72     88180\n",
      "weighted avg       0.86      0.79      0.81     88180\n",
      "\n",
      "🧩 Confusion Matrix:\n",
      "\n",
      "[[57477 14869]\n",
      " [ 3410 12424]]\n"
     ]
    }
   ],
   "source": [
    "from sklearn.linear_model import LogisticRegression\n",
    "from sklearn.metrics import (\n",
    "    accuracy_score,\n",
    "    precision_score,\n",
    "    recall_score,\n",
    "    f1_score,\n",
    "    classification_report,\n",
    "    confusion_matrix\n",
    ")\n",
    "\n",
    "# Train the model\n",
    "lf = LogisticRegression(max_iter=1000,class_weight=\"balanced\")  # Increase max_iter to avoid convergence warnings\n",
    "lf.fit(X_train, y_train)\n",
    "\n",
    "# Make predictions\n",
    "y_pred = lf.predict(X_test)\n",
    "\n",
    "# Evaluate\n",
    "accuracy = accuracy_score(y_test, y_pred)\n",
    "precision = precision_score(y_test, y_pred, average='weighted', zero_division=0)\n",
    "recall = recall_score(y_test, y_pred, average='weighted', zero_division=0)\n",
    "f1 = f1_score(y_test, y_pred, average='weighted', zero_division=0)\n",
    "\n",
    "# Print results\n",
    "print(\"✅ Model Evaluation Metrics:\")\n",
    "print(f\"📊 Accuracy:  {accuracy:.4f}\")\n",
    "print(f\"📊 Precision: {precision:.4f}\")\n",
    "print(f\"📊 Recall:    {recall:.4f}\")\n",
    "print(f\"📊 F1 Score:  {f1:.4f}\\n\")\n",
    "\n",
    "print(\"📄 Classification Report:\\n\")\n",
    "print(classification_report(y_test, y_pred, zero_division=0))\n",
    "\n",
    "print(\"🧩 Confusion Matrix:\\n\")\n",
    "print(confusion_matrix(y_test, y_pred))\n"
   ]
  },
  {
   "cell_type": "code",
   "execution_count": 9,
   "id": "1761a800",
   "metadata": {},
   "outputs": [
    {
     "name": "stdout",
     "output_type": "stream",
     "text": [
      "✅ XGBoost Evaluation:\n",
      "📊 Accuracy:  0.8386\n",
      "📊 Precision: 0.8745\n",
      "📊 Recall:    0.8386\n",
      "📊 F1 Score:  0.8497\n",
      "\n",
      "📄 Classification Report:\n",
      "\n",
      "              precision    recall  f1-score   support\n",
      "\n",
      "           0       0.95      0.85      0.90     72346\n",
      "           1       0.53      0.79      0.64     15834\n",
      "\n",
      "    accuracy                           0.84     88180\n",
      "   macro avg       0.74      0.82      0.77     88180\n",
      "weighted avg       0.87      0.84      0.85     88180\n",
      "\n",
      "🧩 Confusion Matrix:\n",
      "\n",
      "[[61407 10939]\n",
      " [ 3297 12537]]\n"
     ]
    }
   ],
   "source": [
    "import xgboost as xgb\n",
    "from sklearn.metrics import (\n",
    "    accuracy_score,\n",
    "    precision_score,\n",
    "    recall_score,\n",
    "    f1_score,\n",
    "    classification_report,\n",
    "    confusion_matrix\n",
    ")\n",
    "\n",
    "# Initialize classifier\n",
    "xgb_clf = xgb.XGBClassifier(\n",
    "    objective='binary:logistic',  # or 'multi:softmax' for multi-class\n",
    "    eval_metric='logloss',\n",
    "    scale_pos_weight=4.56,           # Will update below for imbalance\n",
    "    n_estimators=100,\n",
    "    learning_rate=0.1,\n",
    "    max_depth=10,\n",
    "    random_state=42\n",
    ")\n",
    "\n",
    "\n",
    "# Fit the model\n",
    "xgb_clf.fit(X_train, y_train)\n",
    "\n",
    "# Predict\n",
    "y_pred = xgb_clf.predict(X_test)\n",
    "\n",
    "# Evaluation\n",
    "accuracy = accuracy_score(y_test, y_pred)\n",
    "precision = precision_score(y_test, y_pred, average='weighted', zero_division=0)\n",
    "recall = recall_score(y_test, y_pred, average='weighted', zero_division=0)\n",
    "f1 = f1_score(y_test, y_pred, average='weighted', zero_division=0)\n",
    "\n",
    "print(\"✅ XGBoost Evaluation:\")\n",
    "print(f\"📊 Accuracy:  {accuracy:.4f}\")\n",
    "print(f\"📊 Precision: {precision:.4f}\")\n",
    "print(f\"📊 Recall:    {recall:.4f}\")\n",
    "print(f\"📊 F1 Score:  {f1:.4f}\\n\")\n",
    "\n",
    "print(\"📄 Classification Report:\\n\")\n",
    "print(classification_report(y_test, y_pred, zero_division=0))\n",
    "\n",
    "print(\"🧩 Confusion Matrix:\\n\")\n",
    "print(confusion_matrix(y_test, y_pred))\n"
   ]
  },
  {
   "cell_type": "code",
   "execution_count": 4,
   "id": "30e5e567",
   "metadata": {},
   "outputs": [
    {
     "name": "stdout",
     "output_type": "stream",
     "text": [
      "scikit-learn version: 1.3.2\n",
      "imbalanced-learn version: 0.11.0\n"
     ]
    }
   ],
   "source": [
    "import sklearn\n",
    "import imblearn\n",
    "\n",
    "print(\"scikit-learn version:\", sklearn.__version__)\n",
    "print(\"imbalanced-learn version:\", imblearn.__version__)\n"
   ]
  },
  {
   "cell_type": "code",
   "execution_count": 6,
   "id": "13fcaee6",
   "metadata": {},
   "outputs": [
    {
     "name": "stdout",
     "output_type": "stream",
     "text": [
      "(126942, 100)\n"
     ]
    },
    {
     "name": "stderr",
     "output_type": "stream",
     "text": [
      "C:\\Users\\Sk\\AppData\\Roaming\\Python\\Python311\\site-packages\\xgboost\\training.py:183: UserWarning: [16:33:07] WARNING: C:\\actions-runner\\_work\\xgboost\\xgboost\\src\\learner.cc:738: \n",
      "Parameters: { \"use_label_encoder\" } are not used.\n",
      "\n",
      "  bst.update(dtrain, iteration=i, fobj=obj)\n"
     ]
    },
    {
     "name": "stdout",
     "output_type": "stream",
     "text": [
      "✅ XGBoost Evaluation After Undersampling:\n",
      "📊 Accuracy:  0.7987\n",
      "📊 Precision: 0.4665\n",
      "📊 Recall:    0.845\n",
      "📊 F1 Score:  0.6012\n",
      "\n",
      "📄 Classification Report:\n",
      "\n",
      "              precision    recall  f1-score   support\n",
      "\n",
      "           0       0.96      0.79      0.87     72346\n",
      "           1       0.47      0.85      0.60     15834\n",
      "\n",
      "    accuracy                           0.80     88180\n",
      "   macro avg       0.71      0.82      0.73     88180\n",
      "weighted avg       0.87      0.80      0.82     88180\n",
      "\n",
      "🧩 Confusion Matrix:\n",
      "\n",
      "[[57046 15300]\n",
      " [ 2454 13380]]\n"
     ]
    }
   ],
   "source": [
    "from imblearn.under_sampling import RandomUnderSampler\n",
    "from sklearn.model_selection import train_test_split\n",
    "from xgboost import XGBClassifier\n",
    "from sklearn.metrics import classification_report, confusion_matrix, accuracy_score, precision_score, recall_score, f1_score\n",
    "\n",
    "# Step 2: Apply Random Undersampling on training data\n",
    "rus = RandomUnderSampler(random_state=42)\n",
    "X_resampled, y_resampled = rus.fit_resample(X_train, y_train)\n",
    "\n",
    "print(X_resampled.shape)\n",
    "\n",
    "# Step 3: Train XGBoost on balanced data\n",
    "xgb_clf = XGBClassifier(\n",
    "    objective='binary:logistic',\n",
    "    eval_metric='logloss',\n",
    "    use_label_encoder=False,\n",
    "    random_state=42\n",
    ")\n",
    "xgb_clf.fit(X_resampled, y_resampled)\n",
    "\n",
    "# Step 4: Evaluate on original test set\n",
    "y_pred = xgb_clf.predict(X_test)\n",
    "\n",
    "# Step 5: Evaluation Metrics\n",
    "print(\"✅ XGBoost Evaluation After Undersampling:\")\n",
    "print(\"📊 Accuracy: \", round(accuracy_score(y_test, y_pred), 4))\n",
    "print(\"📊 Precision:\", round(precision_score(y_test, y_pred), 4))\n",
    "print(\"📊 Recall:   \", round(recall_score(y_test, y_pred), 4))\n",
    "print(\"📊 F1 Score: \", round(f1_score(y_test, y_pred), 4))\n",
    "\n",
    "print(\"\\n📄 Classification Report:\\n\")\n",
    "print(classification_report(y_test, y_pred))\n",
    "\n",
    "print(\"🧩 Confusion Matrix:\\n\")\n",
    "print(confusion_matrix(y_test, y_pred))\n"
   ]
  },
  {
   "cell_type": "code",
   "execution_count": null,
   "id": "813a6bc8",
   "metadata": {},
   "outputs": [
    {
     "name": "stdout",
     "output_type": "stream",
     "text": [
      "✅ Accuracy: 0.7480834656384667\n",
      "\n",
      "📊 Classification Report:\n",
      "\n",
      "              precision    recall  f1-score   support\n",
      "\n",
      "           0       0.96      0.73      0.83     72346\n",
      "           1       0.40      0.85      0.55     15834\n",
      "\n",
      "    accuracy                           0.75     88180\n",
      "   macro avg       0.68      0.79      0.69     88180\n",
      "weighted avg       0.86      0.75      0.78     88180\n",
      "\n",
      "🧮 Confusion Matrix:\n",
      "\n",
      "[[52479 19867]\n",
      " [ 2347 13487]]\n"
     ]
    }
   ],
   "source": [
    "from sklearn.ensemble import RandomForestClassifier\n",
    "from sklearn.metrics import classification_report, confusion_matrix, accuracy_score\n",
    "\n",
    "# Create and train the model\n",
    "rf = RandomForestClassifier(\n",
    "    class_weight='balanced',\n",
    "    n_estimators=100,\n",
    "    max_depth=7,\n",
    "    random_state=42\n",
    ")\n",
    "\n",
    "rf.fit(X_train, y_train)\n",
    "\n",
    "# Predict\n",
    "y_pred = rf.predict(X_test)\n",
    "# Accuracy\n",
    "print(\"✅ Accuracy:\", accuracy_score(y_test, y_pred))\n",
    "\n",
    "# Classification report\n",
    "print(\"\\n📊 Classification Report:\\n\")\n",
    "print(classification_report(y_test, y_pred))\n",
    "\n",
    "# Confusion matrix\n",
    "print(\"🧮 Confusion Matrix:\\n\")\n",
    "print(confusion_matrix(y_test, y_pred))\n"
   ]
  },
  {
   "cell_type": "code",
   "execution_count": null,
   "id": "236eba38",
   "metadata": {},
   "outputs": [],
   "source": []
  }
 ],
 "metadata": {
  "kernelspec": {
   "display_name": "Python 3",
   "language": "python",
   "name": "python3"
  },
  "language_info": {
   "codemirror_mode": {
    "name": "ipython",
    "version": 3
   },
   "file_extension": ".py",
   "mimetype": "text/x-python",
   "name": "python",
   "nbconvert_exporter": "python",
   "pygments_lexer": "ipython3",
   "version": "3.11.9"
  }
 },
 "nbformat": 4,
 "nbformat_minor": 5
}
